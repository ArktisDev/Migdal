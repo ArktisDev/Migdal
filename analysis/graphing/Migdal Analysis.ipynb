{
 "cells": [
  {
   "cell_type": "code",
   "execution_count": 1,
   "id": "17004211",
   "metadata": {},
   "outputs": [],
   "source": [
    "import uproot\n",
    "import numpy as np\n",
    "import pandas as pd\n",
    "import matplotlib.pyplot as plt\n",
    "import matplotlib"
   ]
  },
  {
   "cell_type": "code",
   "execution_count": 23,
   "id": "64598424",
   "metadata": {},
   "outputs": [],
   "source": [
    "file = uproot.open(\"../../geant/data/bigdatasample/output_75_discrim.root\")\n",
    "data = file['Recoils'].arrays(library='pd')\n",
    "data2 = file['Edep'].arrays(library='pd')"
   ]
  },
  {
   "cell_type": "code",
   "execution_count": 20,
   "id": "9a685f0e",
   "metadata": {},
   "outputs": [
    {
     "data": {
      "text/html": [
       "<div>\n",
       "<style scoped>\n",
       "    .dataframe tbody tr th:only-of-type {\n",
       "        vertical-align: middle;\n",
       "    }\n",
       "\n",
       "    .dataframe tbody tr th {\n",
       "        vertical-align: top;\n",
       "    }\n",
       "\n",
       "    .dataframe thead th {\n",
       "        text-align: right;\n",
       "    }\n",
       "</style>\n",
       "<table border=\"1\" class=\"dataframe\">\n",
       "  <thead>\n",
       "    <tr style=\"text-align: right;\">\n",
       "      <th></th>\n",
       "      <th>Event ID</th>\n",
       "      <th>Track ID</th>\n",
       "      <th>Parent ID</th>\n",
       "      <th>Global Time (ns)</th>\n",
       "      <th>Particle Name</th>\n",
       "      <th>Energy (keV)</th>\n",
       "      <th>Position x (mm)</th>\n",
       "      <th>Position y (mm)</th>\n",
       "      <th>Position z (mm)</th>\n",
       "    </tr>\n",
       "  </thead>\n",
       "  <tbody>\n",
       "    <tr>\n",
       "      <th>0</th>\n",
       "      <td>3093</td>\n",
       "      <td>3</td>\n",
       "      <td>1</td>\n",
       "      <td>127.081048</td>\n",
       "      <td>F19</td>\n",
       "      <td>360.957204</td>\n",
       "      <td>96.406134</td>\n",
       "      <td>-87.398355</td>\n",
       "      <td>1.481570</td>\n",
       "    </tr>\n",
       "    <tr>\n",
       "      <th>1</th>\n",
       "      <td>3512</td>\n",
       "      <td>3</td>\n",
       "      <td>1</td>\n",
       "      <td>90.812481</td>\n",
       "      <td>F19</td>\n",
       "      <td>41.975459</td>\n",
       "      <td>20.965714</td>\n",
       "      <td>-5.683535</td>\n",
       "      <td>54.179180</td>\n",
       "    </tr>\n",
       "    <tr>\n",
       "      <th>2</th>\n",
       "      <td>13504</td>\n",
       "      <td>3</td>\n",
       "      <td>1</td>\n",
       "      <td>97.456014</td>\n",
       "      <td>F19</td>\n",
       "      <td>377.286248</td>\n",
       "      <td>3.082961</td>\n",
       "      <td>3.117697</td>\n",
       "      <td>-91.177720</td>\n",
       "    </tr>\n",
       "    <tr>\n",
       "      <th>3</th>\n",
       "      <td>13603</td>\n",
       "      <td>2</td>\n",
       "      <td>1</td>\n",
       "      <td>95.804132</td>\n",
       "      <td>F19</td>\n",
       "      <td>381.773887</td>\n",
       "      <td>-1.354634</td>\n",
       "      <td>-61.255533</td>\n",
       "      <td>-67.632636</td>\n",
       "    </tr>\n",
       "    <tr>\n",
       "      <th>4</th>\n",
       "      <td>29062</td>\n",
       "      <td>19</td>\n",
       "      <td>4</td>\n",
       "      <td>85.273319</td>\n",
       "      <td>e-</td>\n",
       "      <td>366.802537</td>\n",
       "      <td>-15.791774</td>\n",
       "      <td>-14.272227</td>\n",
       "      <td>31.695513</td>\n",
       "    </tr>\n",
       "    <tr>\n",
       "      <th>...</th>\n",
       "      <td>...</td>\n",
       "      <td>...</td>\n",
       "      <td>...</td>\n",
       "      <td>...</td>\n",
       "      <td>...</td>\n",
       "      <td>...</td>\n",
       "      <td>...</td>\n",
       "      <td>...</td>\n",
       "      <td>...</td>\n",
       "    </tr>\n",
       "    <tr>\n",
       "      <th>4864</th>\n",
       "      <td>9986849</td>\n",
       "      <td>29</td>\n",
       "      <td>8</td>\n",
       "      <td>959.763888</td>\n",
       "      <td>e-</td>\n",
       "      <td>30.160778</td>\n",
       "      <td>-44.247768</td>\n",
       "      <td>-7.649681</td>\n",
       "      <td>48.596471</td>\n",
       "    </tr>\n",
       "    <tr>\n",
       "      <th>4865</th>\n",
       "      <td>9986882</td>\n",
       "      <td>2</td>\n",
       "      <td>1</td>\n",
       "      <td>92.425267</td>\n",
       "      <td>F19</td>\n",
       "      <td>266.711466</td>\n",
       "      <td>-7.101831</td>\n",
       "      <td>-9.086204</td>\n",
       "      <td>4.361830</td>\n",
       "    </tr>\n",
       "    <tr>\n",
       "      <th>4866</th>\n",
       "      <td>9991038</td>\n",
       "      <td>322</td>\n",
       "      <td>7</td>\n",
       "      <td>160112.185925</td>\n",
       "      <td>e-</td>\n",
       "      <td>2229.977997</td>\n",
       "      <td>-51.000000</td>\n",
       "      <td>25.636302</td>\n",
       "      <td>24.045036</td>\n",
       "    </tr>\n",
       "    <tr>\n",
       "      <th>4867</th>\n",
       "      <td>9993267</td>\n",
       "      <td>3</td>\n",
       "      <td>1</td>\n",
       "      <td>92.906502</td>\n",
       "      <td>F19</td>\n",
       "      <td>179.508267</td>\n",
       "      <td>41.677457</td>\n",
       "      <td>48.177485</td>\n",
       "      <td>-19.087089</td>\n",
       "    </tr>\n",
       "    <tr>\n",
       "      <th>4868</th>\n",
       "      <td>9997841</td>\n",
       "      <td>5</td>\n",
       "      <td>4</td>\n",
       "      <td>90.960386</td>\n",
       "      <td>e-</td>\n",
       "      <td>1700.140568</td>\n",
       "      <td>127.000000</td>\n",
       "      <td>-55.648969</td>\n",
       "      <td>36.506221</td>\n",
       "    </tr>\n",
       "  </tbody>\n",
       "</table>\n",
       "<p>4869 rows × 9 columns</p>\n",
       "</div>"
      ],
      "text/plain": [
       "      Event ID  Track ID  Parent ID  Global Time (ns) Particle Name  \\\n",
       "0         3093         3          1        127.081048           F19   \n",
       "1         3512         3          1         90.812481           F19   \n",
       "2        13504         3          1         97.456014           F19   \n",
       "3        13603         2          1         95.804132           F19   \n",
       "4        29062        19          4         85.273319            e-   \n",
       "...        ...       ...        ...               ...           ...   \n",
       "4864   9986849        29          8        959.763888            e-   \n",
       "4865   9986882         2          1         92.425267           F19   \n",
       "4866   9991038       322          7     160112.185925            e-   \n",
       "4867   9993267         3          1         92.906502           F19   \n",
       "4868   9997841         5          4         90.960386            e-   \n",
       "\n",
       "      Energy (keV)  Position x (mm)  Position y (mm)  Position z (mm)  \n",
       "0       360.957204        96.406134       -87.398355         1.481570  \n",
       "1        41.975459        20.965714        -5.683535        54.179180  \n",
       "2       377.286248         3.082961         3.117697       -91.177720  \n",
       "3       381.773887        -1.354634       -61.255533       -67.632636  \n",
       "4       366.802537       -15.791774       -14.272227        31.695513  \n",
       "...            ...              ...              ...              ...  \n",
       "4864     30.160778       -44.247768        -7.649681        48.596471  \n",
       "4865    266.711466        -7.101831        -9.086204         4.361830  \n",
       "4866   2229.977997       -51.000000        25.636302        24.045036  \n",
       "4867    179.508267        41.677457        48.177485       -19.087089  \n",
       "4868   1700.140568       127.000000       -55.648969        36.506221  \n",
       "\n",
       "[4869 rows x 9 columns]"
      ]
     },
     "execution_count": 20,
     "metadata": {},
     "output_type": "execute_result"
    }
   ],
   "source": [
    "data"
   ]
  },
  {
   "cell_type": "code",
   "execution_count": 24,
   "id": "bdec433d",
   "metadata": {},
   "outputs": [
    {
     "data": {
      "text/plain": [
       "<AxesSubplot:>"
      ]
     },
     "execution_count": 24,
     "metadata": {},
     "output_type": "execute_result"
    },
    {
     "data": {
      "image/png": "[encoded data removed]",
      "text/plain": [
       "<Figure size 432x288 with 1 Axes>"
      ]
     },
     "metadata": {
      "needs_background": "light"
     },
     "output_type": "display_data"
    }
   ],
   "source": [
    "data2['Particle Name'].hist()"
   ]
  },
  {
   "cell_type": "code",
   "execution_count": 22,
   "id": "b554c695",
   "metadata": {},
   "outputs": [
    {
     "data": {
      "text/plain": [
       "<AxesSubplot:>"
      ]
     },
     "execution_count": 22,
     "metadata": {},
     "output_type": "execute_result"
    },
    {
     "data": {
      "image/png": "[encoded data removed]",
      "text/plain": [
       "<Figure size 432x288 with 1 Axes>"
      ]
     },
     "metadata": {
      "needs_background": "light"
     },
     "output_type": "display_data"
    }
   ],
   "source": [
    "data['Particle Name'].hist()"
   ]
  },
  {
   "cell_type": "code",
   "execution_count": 31,
   "id": "f8832364",
   "metadata": {},
   "outputs": [
    {
     "data": {
      "text/plain": [
       "<AxesSubplot:>"
      ]
     },
     "execution_count": 31,
     "metadata": {},
     "output_type": "execute_result"
    },
    {
     "data": {
      "image/png": "[encoded data removed]",
      "text/plain": [
       "<Figure size 432x288 with 1 Axes>"
      ]
     },
     "metadata": {
      "needs_background": "light"
     },
     "output_type": "display_data"
    }
   ],
   "source": [
    "data2[data2['Particle Name']=='e-']['Energy (keV)'].hist(figsize=())"
   ]
  },
  {
   "cell_type": "code",
   "execution_count": 27,
   "id": "2a01f38c",
   "metadata": {},
   "outputs": [
    {
     "data": {
      "text/plain": [
       "<AxesSubplot:>"
      ]
     },
     "execution_count": 27,
     "metadata": {},
     "output_type": "execute_result"
    },
    {
     "data": {
      "image/png": "[encoded data removed]",
      "text/plain": [
       "<Figure size 432x288 with 1 Axes>"
      ]
     },
     "metadata": {
      "needs_background": "light"
     },
     "output_type": "display_data"
    }
   ],
   "source": [
    "data2[data2['Particle Name']=='e-']['Edep (keV)'].hist()"
   ]
  },
  {
   "cell_type": "code",
   "execution_count": 30,
   "id": "8a9c2d3c",
   "metadata": {},
   "outputs": [
    {
     "data": {
      "text/plain": [
       "<AxesSubplot:>"
      ]
     },
     "execution_count": 30,
     "metadata": {},
     "output_type": "execute_result"
    },
    {
     "data": {
      "image/png": "[encoded data removed]",
      "text/plain": [
       "<Figure size 432x288 with 1 Axes>"
      ]
     },
     "metadata": {
      "needs_background": "light"
     },
     "output_type": "display_data"
    }
   ],
   "source": [
    "data[~data['Particle Name'].str.contains(\"e\")]['Particle Name'].hist()"
   ]
  },
  {
   "cell_type": "code",
   "execution_count": null,
   "id": "c34f80df",
   "metadata": {},
   "outputs": [],
   "source": []
  }
 ],
 "metadata": {
  "kernelspec": {
   "display_name": "Python 3 (ipykernel)",
   "language": "python",
   "name": "python3"
  },
  "language_info": {
   "codemirror_mode": {
    "name": "ipython",
    "version": 3
   },
   "file_extension": ".py",
   "mimetype": "text/x-python",
   "name": "python",
   "nbconvert_exporter": "python",
   "pygments_lexer": "ipython3",
   "version": "3.10.5"
  }
 },
 "nbformat": 4,
 "nbformat_minor": 5
}
