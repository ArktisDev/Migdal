{
 "cells": [
  {
   "cell_type": "code",
   "execution_count": 1,
   "id": "17004211",
   "metadata": {},
   "outputs": [],
   "source": [
    "import uproot\n",
    "import numpy as np\n",
    "import pandas as pd\n",
    "import matplotlib.pyplot as plt\n",
    "import matplotlib"
   ]
  },
  {
   "cell_type": "code",
   "execution_count": 3,
   "id": "64598424",
   "metadata": {},
   "outputs": [],
   "source": [
    "file = uproot.open(\"../../geant/data/bigdatasample/output_75_discrim_re_coincidences.root\")\n",
    "# data = file['Recoils'].arrays(library='pd')\n",
    "# data2 = file['Edep'].arrays(library='pd')\n",
    "data = file['Pairwise Distances'].arrays(library='pd')"
   ]
  },
  {
   "cell_type": "code",
   "execution_count": 4,
   "id": "2324332e",
   "metadata": {},
   "outputs": [
    {
     "data": {
      "text/html": [
       "<div>\n",
       "<style scoped>\n",
       "    .dataframe tbody tr th:only-of-type {\n",
       "        vertical-align: middle;\n",
       "    }\n",
       "\n",
       "    .dataframe tbody tr th {\n",
       "        vertical-align: top;\n",
       "    }\n",
       "\n",
       "    .dataframe thead th {\n",
       "        text-align: right;\n",
       "    }\n",
       "</style>\n",
       "<table border=\"1\" class=\"dataframe\">\n",
       "  <thead>\n",
       "    <tr style=\"text-align: right;\">\n",
       "      <th></th>\n",
       "      <th>Iteration</th>\n",
       "      <th>Distance (mm)</th>\n",
       "      <th>Particle 1</th>\n",
       "      <th>Particle 2</th>\n",
       "      <th>Energy 1 (keV)</th>\n",
       "      <th>Edep 2 (keV)</th>\n",
       "    </tr>\n",
       "  </thead>\n",
       "  <tbody>\n",
       "    <tr>\n",
       "      <th>0</th>\n",
       "      <td>4</td>\n",
       "      <td>148.372595</td>\n",
       "      <td>C12</td>\n",
       "      <td>e-</td>\n",
       "      <td>513.611965</td>\n",
       "      <td>3.811970</td>\n",
       "    </tr>\n",
       "    <tr>\n",
       "      <th>1</th>\n",
       "      <td>4</td>\n",
       "      <td>102.456108</td>\n",
       "      <td>C12</td>\n",
       "      <td>e-</td>\n",
       "      <td>513.611965</td>\n",
       "      <td>2.935634</td>\n",
       "    </tr>\n",
       "    <tr>\n",
       "      <th>2</th>\n",
       "      <td>4</td>\n",
       "      <td>115.974153</td>\n",
       "      <td>C12</td>\n",
       "      <td>e-</td>\n",
       "      <td>513.611965</td>\n",
       "      <td>2.153820</td>\n",
       "    </tr>\n",
       "    <tr>\n",
       "      <th>3</th>\n",
       "      <td>4</td>\n",
       "      <td>174.758394</td>\n",
       "      <td>C12</td>\n",
       "      <td>e-</td>\n",
       "      <td>513.611965</td>\n",
       "      <td>2.388760</td>\n",
       "    </tr>\n",
       "    <tr>\n",
       "      <th>4</th>\n",
       "      <td>4</td>\n",
       "      <td>158.123132</td>\n",
       "      <td>C12</td>\n",
       "      <td>e-</td>\n",
       "      <td>513.611965</td>\n",
       "      <td>2.363915</td>\n",
       "    </tr>\n",
       "    <tr>\n",
       "      <th>...</th>\n",
       "      <td>...</td>\n",
       "      <td>...</td>\n",
       "      <td>...</td>\n",
       "      <td>...</td>\n",
       "      <td>...</td>\n",
       "      <td>...</td>\n",
       "    </tr>\n",
       "    <tr>\n",
       "      <th>141470</th>\n",
       "      <td>9999</td>\n",
       "      <td>127.697707</td>\n",
       "      <td>C12</td>\n",
       "      <td>proton</td>\n",
       "      <td>326.115358</td>\n",
       "      <td>2.325197</td>\n",
       "    </tr>\n",
       "    <tr>\n",
       "      <th>141471</th>\n",
       "      <td>9999</td>\n",
       "      <td>127.425702</td>\n",
       "      <td>C12</td>\n",
       "      <td>proton</td>\n",
       "      <td>326.115358</td>\n",
       "      <td>6.445957</td>\n",
       "    </tr>\n",
       "    <tr>\n",
       "      <th>141472</th>\n",
       "      <td>9999</td>\n",
       "      <td>127.163452</td>\n",
       "      <td>C12</td>\n",
       "      <td>proton</td>\n",
       "      <td>326.115358</td>\n",
       "      <td>4.465940</td>\n",
       "    </tr>\n",
       "    <tr>\n",
       "      <th>141473</th>\n",
       "      <td>9999</td>\n",
       "      <td>126.907021</td>\n",
       "      <td>C12</td>\n",
       "      <td>proton</td>\n",
       "      <td>326.115358</td>\n",
       "      <td>3.117167</td>\n",
       "    </tr>\n",
       "    <tr>\n",
       "      <th>141474</th>\n",
       "      <td>9999</td>\n",
       "      <td>126.673098</td>\n",
       "      <td>C12</td>\n",
       "      <td>proton</td>\n",
       "      <td>326.115358</td>\n",
       "      <td>2.518039</td>\n",
       "    </tr>\n",
       "  </tbody>\n",
       "</table>\n",
       "<p>141475 rows × 6 columns</p>\n",
       "</div>"
      ],
      "text/plain": [
       "        Iteration  Distance (mm) Particle 1 Particle 2  Energy 1 (keV)  \\\n",
       "0               4     148.372595        C12         e-      513.611965   \n",
       "1               4     102.456108        C12         e-      513.611965   \n",
       "2               4     115.974153        C12         e-      513.611965   \n",
       "3               4     174.758394        C12         e-      513.611965   \n",
       "4               4     158.123132        C12         e-      513.611965   \n",
       "...           ...            ...        ...        ...             ...   \n",
       "141470       9999     127.697707        C12     proton      326.115358   \n",
       "141471       9999     127.425702        C12     proton      326.115358   \n",
       "141472       9999     127.163452        C12     proton      326.115358   \n",
       "141473       9999     126.907021        C12     proton      326.115358   \n",
       "141474       9999     126.673098        C12     proton      326.115358   \n",
       "\n",
       "        Edep 2 (keV)  \n",
       "0           3.811970  \n",
       "1           2.935634  \n",
       "2           2.153820  \n",
       "3           2.388760  \n",
       "4           2.363915  \n",
       "...              ...  \n",
       "141470      2.325197  \n",
       "141471      6.445957  \n",
       "141472      4.465940  \n",
       "141473      3.117167  \n",
       "141474      2.518039  \n",
       "\n",
       "[141475 rows x 6 columns]"
      ]
     },
     "execution_count": 4,
     "metadata": {},
     "output_type": "execute_result"
    }
   ],
   "source": [
    "data"
   ]
  },
  {
   "cell_type": "code",
   "execution_count": 7,
   "id": "384415e5",
   "metadata": {},
   "outputs": [
    {
     "data": {
      "image/png": "[encoded data removed]",
      "text/plain": [
       "<Figure size 432x288 with 1 Axes>"
      ]
     },
     "metadata": {
      "needs_background": "light"
     },
     "output_type": "display_data"
    }
   ],
   "source": [
    "data['Distance (mm)'].hist(bins=1000)\n",
    "\n",
    "plt.xlim(0, 10)\n",
    "\n",
    "plt.show()"
   ]
  },
  {
   "cell_type": "code",
   "execution_count": 24,
   "id": "37f653fd",
   "metadata": {},
   "outputs": [
    {
     "data": {
      "text/plain": [
       "<AxesSubplot:>"
      ]
     },
     "execution_count": 24,
     "metadata": {},
     "output_type": "execute_result"
    },
    {
     "data": {
      "image/png": "[encoded data removed]",
      "text/plain": [
       "<Figure size 432x288 with 1 Axes>"
      ]
     },
     "metadata": {
      "needs_background": "light"
     },
     "output_type": "display_data"
    }
   ],
   "source": [
    "data2['Particle Name'].hist()"
   ]
  },
  {
   "cell_type": "code",
   "execution_count": 22,
   "id": "c1f63a83",
   "metadata": {},
   "outputs": [
    {
     "data": {
      "text/plain": [
       "<AxesSubplot:>"
      ]
     },
     "execution_count": 22,
     "metadata": {},
     "output_type": "execute_result"
    },
    {
     "data": {
      "image/png": "[encoded data removed]",
      "text/plain": [
       "<Figure size 432x288 with 1 Axes>"
      ]
     },
     "metadata": {
      "needs_background": "light"
     },
     "output_type": "display_data"
    }
   ],
   "source": [
    "data['Particle Name'].hist()"
   ]
  },
  {
   "cell_type": "code",
   "execution_count": 34,
   "id": "41baefb5",
   "metadata": {},
   "outputs": [
    {
     "data": {
      "text/plain": [
       "<AxesSubplot:>"
      ]
     },
     "execution_count": 34,
     "metadata": {},
     "output_type": "execute_result"
    },
    {
     "data": {
      "image/png": "[encoded data removed]",
      "text/plain": [
       "<Figure size 720x576 with 1 Axes>"
      ]
     },
     "metadata": {
      "needs_background": "light"
     },
     "output_type": "display_data"
    }
   ],
   "source": [
    "data2[data2['Particle Name']=='e-']['Energy (keV)'].hist(figsize=(10,8), bins=100)"
   ]
  },
  {
   "cell_type": "code",
   "execution_count": 27,
   "id": "0589418f",
   "metadata": {},
   "outputs": [
    {
     "data": {
      "text/plain": [
       "<AxesSubplot:>"
      ]
     },
     "execution_count": 27,
     "metadata": {},
     "output_type": "execute_result"
    },
    {
     "data": {
      "image/png": "[encoded data removed]",
      "text/plain": [
       "<Figure size 432x288 with 1 Axes>"
      ]
     },
     "metadata": {
      "needs_background": "light"
     },
     "output_type": "display_data"
    }
   ],
   "source": [
    "data2[data2['Particle Name']=='e-']['Edep (keV)'].hist()"
   ]
  },
  {
   "cell_type": "code",
   "execution_count": 30,
   "id": "5071029d",
   "metadata": {},
   "outputs": [
    {
     "data": {
      "text/plain": [
       "<AxesSubplot:>"
      ]
     },
     "execution_count": 30,
     "metadata": {},
     "output_type": "execute_result"
    },
    {
     "data": {
      "image/png": "[encoded data removed]",
      "text/plain": [
       "<Figure size 432x288 with 1 Axes>"
      ]
     },
     "metadata": {
      "needs_background": "light"
     },
     "output_type": "display_data"
    }
   ],
   "source": [
    "data[~data['Particle Name'].str.contains(\"e\")]['Particle Name'].hist()"
   ]
  },
  {
   "cell_type": "code",
   "execution_count": null,
   "id": "660fb7d0",
   "metadata": {},
   "outputs": [],
   "source": []
  }
 ],
 "metadata": {
  "kernelspec": {
   "display_name": "Python 3 (ipykernel)",
   "language": "python",
   "name": "python3"
  },
  "language_info": {
   "codemirror_mode": {
    "name": "ipython",
    "version": 3
   },
   "file_extension": ".py",
   "mimetype": "text/x-python",
   "name": "python",
   "nbconvert_exporter": "python",
   "pygments_lexer": "ipython3",
   "version": "3.10.5"
  }
 },
 "nbformat": 4,
 "nbformat_minor": 5
}
